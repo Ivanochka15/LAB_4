{
 "cells": [
  {
   "cell_type": "code",
   "execution_count": 1,
   "metadata": {},
   "outputs": [
    {
     "name": "stderr",
     "output_type": "stream",
     "text": [
      "C:\\Users\\Admin\\anaconda3\\lib\\site-packages\\pandas\\core\\computation\\expressions.py:20: UserWarning: Pandas requires version '2.7.3' or newer of 'numexpr' (version '2.7.1' currently installed).\n",
      "  from pandas.core.computation.check import NUMEXPR_INSTALLED\n"
     ]
    }
   ],
   "source": [
    "import os\n",
    "import numpy as np\n",
    "import pandas as pd\n",
    "import matplotlib.pyplot as plt\n",
    "import tensorflow as tf\n",
    "from tensorflow.keras.preprocessing.image import ImageDataGenerator\n",
    "from sklearn.model_selection import train_test_split\n",
    "from tensorflow.keras.models import Sequential\n",
    "from tensorflow.keras.layers import Conv2D, MaxPooling2D, Flatten, Dense, Dropout"
   ]
  },
  {
   "cell_type": "code",
   "execution_count": 2,
   "metadata": {},
   "outputs": [],
   "source": [
    "n = 6\n",
    "i1 = n - 1\n",
    "i2 = n + 29\n",
    "i3 = n + 59"
   ]
  },
  {
   "cell_type": "code",
   "execution_count": 5,
   "metadata": {},
   "outputs": [
    {
     "data": {
      "text/plain": [
       "['beet_salad', 'escargots', 'mussels']"
      ]
     },
     "execution_count": 5,
     "metadata": {},
     "output_type": "execute_result"
    }
   ],
   "source": [
    "data_dir = 'C:/Users/Admin/Desktop/іваночка_3_курс/2 семестр/нейронки/train'\n",
    "classes = sorted(os.listdir(data_dir))\n",
    "#selected_classes = [classes[i1], classes[i2], classes[i3]]\n",
    "classes"
   ]
  },
  {
   "cell_type": "code",
   "execution_count": 16,
   "metadata": {},
   "outputs": [],
   "source": [
    "train_data = []\n",
    "test_data = []\n",
    "\n",
    "for cls in classes:\n",
    "    cls_path = os.path.join(data_dir, cls)\n",
    "    cls_images = [os.path.join(cls, img) for img in os.listdir(cls_path)]\n",
    "    train, test = train_test_split(cls_images, test_size=0.2, random_state=42)\n",
    "    train_data.extend([(cls, img) for img in train])\n",
    "    test_data.extend([(cls, img) for img in test])\n",
    "\n",
    "train_df = pd.DataFrame(train_data, columns=['class', 'image'])\n",
    "test_df = pd.DataFrame(test_data, columns=['class', 'image'])"
   ]
  },
  {
   "cell_type": "code",
   "execution_count": 17,
   "metadata": {},
   "outputs": [
    {
     "name": "stdout",
     "output_type": "stream",
     "text": [
      "Found 180 validated image filenames belonging to 3 classes.\n",
      "Found 45 validated image filenames belonging to 3 classes.\n"
     ]
    }
   ],
   "source": [
    "img_size = (224, 224)\n",
    "batch_size = 32\n",
    "\n",
    "train_datagen = ImageDataGenerator(rescale=1./255, shear_range=0.2, zoom_range=0.2, horizontal_flip=True)\n",
    "test_datagen = ImageDataGenerator(rescale=1./255)\n",
    "\n",
    "train_generator = train_datagen.flow_from_dataframe(train_df, directory=data_dir, x_col='image', y_col='class', target_size=img_size, batch_size=batch_size, class_mode='categorical')\n",
    "test_generator = test_datagen.flow_from_dataframe(test_df, directory=data_dir, x_col='image', y_col='class', target_size=img_size, batch_size=batch_size, class_mode='categorical', shuffle=False)"
   ]
  },
  {
   "cell_type": "code",
   "execution_count": 30,
   "metadata": {},
   "outputs": [
    {
     "name": "stdout",
     "output_type": "stream",
     "text": [
      "Model: \"sequential_4\"\n",
      "_________________________________________________________________\n",
      " Layer (type)                Output Shape              Param #   \n",
      "=================================================================\n",
      " conv2d_12 (Conv2D)          (None, 222, 222, 32)      896       \n",
      "                                                                 \n",
      " max_pooling2d_12 (MaxPoolin  (None, 111, 111, 32)     0         \n",
      " g2D)                                                            \n",
      "                                                                 \n",
      " conv2d_13 (Conv2D)          (None, 109, 109, 64)      18496     \n",
      "                                                                 \n",
      " max_pooling2d_13 (MaxPoolin  (None, 54, 54, 64)       0         \n",
      " g2D)                                                            \n",
      "                                                                 \n",
      " conv2d_14 (Conv2D)          (None, 52, 52, 128)       73856     \n",
      "                                                                 \n",
      " max_pooling2d_14 (MaxPoolin  (None, 26, 26, 128)      0         \n",
      " g2D)                                                            \n",
      "                                                                 \n",
      " flatten_4 (Flatten)         (None, 86528)             0         \n",
      "                                                                 \n",
      " dense_8 (Dense)             (None, 612)               52955748  \n",
      "                                                                 \n",
      " dense_9 (Dense)             (None, 3)                 1839      \n",
      "                                                                 \n",
      "=================================================================\n",
      "Total params: 53,050,835\n",
      "Trainable params: 53,050,835\n",
      "Non-trainable params: 0\n",
      "_________________________________________________________________\n"
     ]
    }
   ],
   "source": [
    "model = Sequential([\n",
    "    Conv2D(32, (3, 3), activation='relu', input_shape=(*img_size, 3)),\n",
    "    MaxPooling2D(pool_size=(2, 2)),\n",
    "    Conv2D(64, (3, 3), activation='relu'),\n",
    "    MaxPooling2D(pool_size=(2, 2)),\n",
    "    Conv2D(128, (3, 3), activation='relu'),\n",
    "    MaxPooling2D(pool_size=(2, 2)),\n",
    "    Flatten(),\n",
    "    Dense(612, activation='relu'),\n",
    "    Dense(3, activation='softmax')])\n",
    "\n",
    "\n",
    "model.compile(loss='categorical_crossentropy', optimizer='adam', metrics=['accuracy'])\n",
    "\n",
    "model.summary()"
   ]
  },
  {
   "cell_type": "code",
   "execution_count": 32,
   "metadata": {},
   "outputs": [
    {
     "name": "stdout",
     "output_type": "stream",
     "text": [
      "Epoch 1/50\n",
      "1/1 [==============================] - 5s 5s/step - loss: 1.0812 - accuracy: 0.4375 - val_loss: 30.9740 - val_accuracy: 0.0625\n",
      "Epoch 2/50\n",
      "1/1 [==============================] - 3s 3s/step - loss: 25.0774 - accuracy: 0.2500 - val_loss: 7.4509 - val_accuracy: 0.4688\n",
      "Epoch 3/50\n",
      "1/1 [==============================] - 3s 3s/step - loss: 6.6782 - accuracy: 0.4688 - val_loss: 1.7253 - val_accuracy: 0.4688\n",
      "Epoch 4/50\n",
      "1/1 [==============================] - 3s 3s/step - loss: 3.4327 - accuracy: 0.3500 - val_loss: 1.2433 - val_accuracy: 0.4688\n",
      "Epoch 5/50\n",
      "1/1 [==============================] - 3s 3s/step - loss: 2.1947 - accuracy: 0.3125 - val_loss: 1.0912 - val_accuracy: 0.4688\n",
      "Epoch 6/50\n",
      "1/1 [==============================] - 3s 3s/step - loss: 1.3001 - accuracy: 0.4375 - val_loss: 1.0424 - val_accuracy: 0.4688\n",
      "Epoch 7/50\n",
      "1/1 [==============================] - 3s 3s/step - loss: 1.1435 - accuracy: 0.3438 - val_loss: 1.0952 - val_accuracy: 0.4688\n",
      "Epoch 8/50\n",
      "1/1 [==============================] - 3s 3s/step - loss: 1.0955 - accuracy: 0.3125 - val_loss: 1.1660 - val_accuracy: 0.0938\n",
      "Epoch 9/50\n",
      "1/1 [==============================] - 3s 3s/step - loss: 1.1274 - accuracy: 0.3438 - val_loss: 1.1786 - val_accuracy: 0.0625\n",
      "Epoch 10/50\n",
      "1/1 [==============================] - 3s 3s/step - loss: 1.0713 - accuracy: 0.5000 - val_loss: 1.2824 - val_accuracy: 0.0625\n",
      "Epoch 11/50\n",
      "1/1 [==============================] - 3s 3s/step - loss: 1.0704 - accuracy: 0.4375 - val_loss: 1.3170 - val_accuracy: 0.0625\n",
      "Epoch 12/50\n",
      "1/1 [==============================] - 3s 3s/step - loss: 1.1182 - accuracy: 0.2500 - val_loss: 1.2066 - val_accuracy: 0.4062\n",
      "Epoch 13/50\n",
      "1/1 [==============================] - 3s 3s/step - loss: 1.1884 - accuracy: 0.3500 - val_loss: 1.0844 - val_accuracy: 0.4688\n",
      "Epoch 14/50\n",
      "1/1 [==============================] - 3s 3s/step - loss: 1.0863 - accuracy: 0.4000 - val_loss: 1.0503 - val_accuracy: 0.4688\n",
      "Epoch 15/50\n",
      "1/1 [==============================] - 3s 3s/step - loss: 1.1085 - accuracy: 0.1875 - val_loss: 1.1068 - val_accuracy: 0.3438\n",
      "Epoch 16/50\n",
      "1/1 [==============================] - 3s 3s/step - loss: 1.0966 - accuracy: 0.4688 - val_loss: 1.2102 - val_accuracy: 0.0625\n",
      "Epoch 17/50\n",
      "1/1 [==============================] - 4s 4s/step - loss: 1.1009 - accuracy: 0.2812 - val_loss: 1.1515 - val_accuracy: 0.0625\n",
      "Epoch 18/50\n",
      "1/1 [==============================] - 3s 3s/step - loss: 1.0616 - accuracy: 0.3500 - val_loss: 1.0906 - val_accuracy: 0.3438\n",
      "Epoch 19/50\n",
      "1/1 [==============================] - 3s 3s/step - loss: 1.0816 - accuracy: 0.4000 - val_loss: 1.0717 - val_accuracy: 0.4375\n",
      "Epoch 20/50\n",
      "1/1 [==============================] - 3s 3s/step - loss: 1.0485 - accuracy: 0.4688 - val_loss: 1.1340 - val_accuracy: 0.2188\n",
      "Epoch 21/50\n",
      "1/1 [==============================] - 3s 3s/step - loss: 1.0910 - accuracy: 0.2500 - val_loss: 1.0416 - val_accuracy: 0.4688\n",
      "Epoch 22/50\n",
      "1/1 [==============================] - 3s 3s/step - loss: 1.0233 - accuracy: 0.5625 - val_loss: 1.0033 - val_accuracy: 0.5000\n",
      "Epoch 23/50\n",
      "1/1 [==============================] - 3s 3s/step - loss: 1.0287 - accuracy: 0.5312 - val_loss: 0.9814 - val_accuracy: 0.5000\n",
      "Epoch 24/50\n",
      "1/1 [==============================] - 3s 3s/step - loss: 0.9949 - accuracy: 0.4688 - val_loss: 1.1217 - val_accuracy: 0.3125\n",
      "Epoch 25/50\n",
      "1/1 [==============================] - 3s 3s/step - loss: 1.1060 - accuracy: 0.3750 - val_loss: 1.3010 - val_accuracy: 0.1562\n",
      "Epoch 26/50\n",
      "1/1 [==============================] - 4s 4s/step - loss: 1.0884 - accuracy: 0.4062 - val_loss: 1.0938 - val_accuracy: 0.2812\n",
      "Epoch 27/50\n",
      "1/1 [==============================] - 190s 190s/step - loss: 0.9696 - accuracy: 0.4688 - val_loss: 0.9681 - val_accuracy: 0.4688\n",
      "Epoch 28/50\n",
      "1/1 [==============================] - 5s 5s/step - loss: 0.9814 - accuracy: 0.5000 - val_loss: 0.9663 - val_accuracy: 0.5000\n",
      "Epoch 29/50\n",
      "1/1 [==============================] - 3s 3s/step - loss: 1.0201 - accuracy: 0.4500 - val_loss: 1.1320 - val_accuracy: 0.3438\n",
      "Epoch 30/50\n",
      "1/1 [==============================] - 3s 3s/step - loss: 1.0287 - accuracy: 0.4688 - val_loss: 1.0654 - val_accuracy: 0.4375\n",
      "Epoch 31/50\n",
      "1/1 [==============================] - 3s 3s/step - loss: 0.9252 - accuracy: 0.6875 - val_loss: 1.1112 - val_accuracy: 0.3750\n",
      "Epoch 32/50\n",
      "1/1 [==============================] - 4s 4s/step - loss: 0.9298 - accuracy: 0.5312 - val_loss: 1.2825 - val_accuracy: 0.3750\n",
      "Epoch 33/50\n",
      "1/1 [==============================] - 3s 3s/step - loss: 0.8891 - accuracy: 0.5938 - val_loss: 1.1485 - val_accuracy: 0.4062\n",
      "Epoch 34/50\n",
      "1/1 [==============================] - 3s 3s/step - loss: 0.8728 - accuracy: 0.5938 - val_loss: 1.2034 - val_accuracy: 0.4062\n",
      "Epoch 35/50\n",
      "1/1 [==============================] - 3s 3s/step - loss: 0.8065 - accuracy: 0.6875 - val_loss: 1.4193 - val_accuracy: 0.3750\n",
      "Epoch 36/50\n",
      "1/1 [==============================] - 3s 3s/step - loss: 0.7587 - accuracy: 0.6562 - val_loss: 1.2017 - val_accuracy: 0.4062\n",
      "Epoch 37/50\n",
      "1/1 [==============================] - 2s 2s/step - loss: 0.7831 - accuracy: 0.6000 - val_loss: 1.1552 - val_accuracy: 0.4062\n",
      "Epoch 38/50\n",
      "1/1 [==============================] - 3s 3s/step - loss: 0.8548 - accuracy: 0.6250 - val_loss: 1.6260 - val_accuracy: 0.3125\n",
      "Epoch 39/50\n",
      "1/1 [==============================] - 3s 3s/step - loss: 0.8356 - accuracy: 0.6250 - val_loss: 1.5111 - val_accuracy: 0.2812\n",
      "Epoch 40/50\n",
      "1/1 [==============================] - 2s 2s/step - loss: 0.6695 - accuracy: 0.6000 - val_loss: 1.2489 - val_accuracy: 0.4375\n",
      "Epoch 41/50\n",
      "1/1 [==============================] - 3s 3s/step - loss: 0.9580 - accuracy: 0.4688 - val_loss: 1.6086 - val_accuracy: 0.3125\n",
      "Epoch 42/50\n",
      "1/1 [==============================] - 3s 3s/step - loss: 0.9973 - accuracy: 0.5000 - val_loss: 1.0055 - val_accuracy: 0.5938\n",
      "Epoch 43/50\n",
      "1/1 [==============================] - 3s 3s/step - loss: 0.7446 - accuracy: 0.6562 - val_loss: 0.8926 - val_accuracy: 0.6250\n",
      "Epoch 44/50\n",
      "1/1 [==============================] - 3s 3s/step - loss: 0.7996 - accuracy: 0.6250 - val_loss: 1.0080 - val_accuracy: 0.4375\n",
      "Epoch 45/50\n",
      "1/1 [==============================] - 2s 2s/step - loss: 0.9804 - accuracy: 0.5000 - val_loss: 1.3027 - val_accuracy: 0.4062\n",
      "Epoch 46/50\n",
      "1/1 [==============================] - 3s 3s/step - loss: 1.1256 - accuracy: 0.4375 - val_loss: 1.7614 - val_accuracy: 0.2500\n",
      "Epoch 47/50\n",
      "1/1 [==============================] - 3s 3s/step - loss: 1.0004 - accuracy: 0.5938 - val_loss: 1.2609 - val_accuracy: 0.3438\n",
      "Epoch 48/50\n",
      "1/1 [==============================] - 3s 3s/step - loss: 0.6333 - accuracy: 0.8125 - val_loss: 1.0522 - val_accuracy: 0.4062\n",
      "Epoch 49/50\n",
      "1/1 [==============================] - 3s 3s/step - loss: 0.6926 - accuracy: 0.7188 - val_loss: 1.0762 - val_accuracy: 0.4062\n",
      "Epoch 50/50\n",
      "1/1 [==============================] - 3s 3s/step - loss: 0.7592 - accuracy: 0.6562 - val_loss: 1.1178 - val_accuracy: 0.4688\n"
     ]
    }
   ],
   "source": [
    "history= model.fit(\n",
    "train_generator,\n",
    "epochs=50,\n",
    "steps_per_epoch = int(np.ceil(len(train_generator)/float(batch_size))),\n",
    "validation_data = test_generator,\n",
    "validation_steps = int(np.ceil(len(train_generator)/float(batch_size))))"
   ]
  },
  {
   "cell_type": "code",
   "execution_count": 33,
   "metadata": {},
   "outputs": [
    {
     "name": "stdout",
     "output_type": "stream",
     "text": [
      "2/2 [==============================] - 1s 180ms/step - loss: 0.9429 - accuracy: 0.5778\n",
      "Test loss: 0.9429\n",
      "Test accuracy: 0.5778\n"
     ]
    }
   ],
   "source": [
    "loss, accuracy = model.evaluate(test_generator)\n",
    "print(f'Test loss: {loss:.4f}')\n",
    "print(f'Test accuracy: {accuracy:.4f}')"
   ]
  },
  {
   "cell_type": "code",
   "execution_count": 39,
   "metadata": {},
   "outputs": [
    {
     "data": {
      "image/png": "[encoded data removed]",
      "text/plain": [
       "<Figure size 864x432 with 2 Axes>"
      ]
     },
     "metadata": {
      "needs_background": "light"
     },
     "output_type": "display_data"
    }
   ],
   "source": [
    "plt.figure(figsize=(12, 6))\n",
    "\n",
    "plt.subplot(1, 2, 1)\n",
    "plt.plot(range(epochs), history.history['loss'][:epochs], label='Training Loss')\n",
    "plt.plot(range(epochs), history.history['val_loss'][:epochs], label='Validation Loss')\n",
    "plt.xlabel('Epoch')\n",
    "plt.ylabel('Loss')\n",
    "plt.legend()\n",
    "\n",
    "plt.subplot(1, 2, 2)\n",
    "plt.plot(range(epochs), history.history['accuracy'][:epochs], label='Training Accuracy')\n",
    "plt.plot(range(epochs), history.history['val_accuracy'][:epochs], label='Validation Accuracy')\n",
    "plt.xlabel('Epoch')\n",
    "plt.ylabel('Accuracy')\n",
    "plt.legend()\n",
    "\n",
    "plt.show()"
   ]
  },
  {
   "cell_type": "code",
   "execution_count": null,
   "metadata": {},
   "outputs": [],
   "source": []
  }
 ],
 "metadata": {
  "kernelspec": {
   "display_name": "Python 3",
   "language": "python",
   "name": "python3"
  },
  "language_info": {
   "codemirror_mode": {
    "name": "ipython",
    "version": 3
   },
   "file_extension": ".py",
   "mimetype": "text/x-python",
   "name": "python",
   "nbconvert_exporter": "python",
   "pygments_lexer": "ipython3",
   "version": "3.8.3"
  }
 },
 "nbformat": 4,
 "nbformat_minor": 4
}
